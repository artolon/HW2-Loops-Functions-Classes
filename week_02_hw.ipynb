{
 "cells": [
  {
   "cell_type": "markdown",
   "metadata": {},
   "source": [
    "### Homework Week 02\n",
    "#### Loops, Functions and Classes\n",
    "1. Do this homework **in order**. \n",
    "2. Be sure to have a solid understanding of Functions before working with Classes. "
   ]
  },
  {
   "cell_type": "markdown",
   "metadata": {},
   "source": [
    "**1. Iterate through `integers_list` and `print` values that are multiples of 7.**"
   ]
  },
  {
   "cell_type": "code",
   "execution_count": 14,
   "metadata": {},
   "outputs": [
    {
     "name": "stdout",
     "output_type": "stream",
     "text": [
      "[339, 115, 421, 270, 666, 369, 230, 154, 788, 396, 642, 602, 901, 227, 551, 437, 29, 160, 465, 656, 608, 748, 257, 938, 250, 136, 61, 176, 854, 679, 570, 329, 810, 592, 372, 356, 98, 714, 734, 233, 394, 269, 686, 489, 307, 418, 151, 689, 174, 664]\n"
     ]
    }
   ],
   "source": [
    "import random\n",
    "# Code will generate 50 random numbers between 0 and 1000\n",
    "integers_list = [random.randint(0,1000) for i in range(50)] # a list comprehension\n",
    "\n",
    "# Display list\n",
    "print(integers_list)"
   ]
  },
  {
   "cell_type": "code",
   "execution_count": 15,
   "metadata": {},
   "outputs": [
    {
     "name": "stdout",
     "output_type": "stream",
     "text": [
      "[154, 602, 938, 854, 679, 329, 98, 714, 686]\n"
     ]
    }
   ],
   "source": [
    "# Print multiples of 7\n",
    "mult_7 = [i for i in integers_list if i%7==0]\n",
    "# View list\n",
    "print(mult_7)"
   ]
  },
  {
   "cell_type": "markdown",
   "metadata": {},
   "source": [
    "**2. Create `list` of 5 colors as `strings` which are all lowercase. \n",
    "Iterate through the `list` and capitalize each color. \n",
    "You should modify the `list` in place.**"
   ]
  },
  {
   "cell_type": "code",
   "execution_count": 18,
   "metadata": {},
   "outputs": [
    {
     "name": "stdout",
     "output_type": "stream",
     "text": [
      "['Blue', 'Purple', 'Green', 'Yellow', 'Orange']\n"
     ]
    }
   ],
   "source": [
    "# Create my color list\n",
    "color_list = ['blue', 'purple', 'green', 'yellow', 'orange']\n",
    "\n",
    "# Itereate and make words capitalized\n",
    "color_list_cap = [c.capitalize() for c in color_list]\n",
    "print(color_list_cap)"
   ]
  },
  {
   "cell_type": "markdown",
   "metadata": {},
   "source": [
    "**3. Loop through the string and eliminate all the asterisks.**"
   ]
  },
  {
   "cell_type": "code",
   "execution_count": 23,
   "metadata": {},
   "outputs": [
    {
     "name": "stdout",
     "output_type": "stream",
     "text": [
      "My computer has gone crazy and added extra symbols.\n"
     ]
    }
   ],
   "source": [
    "# String given to us to loop through\n",
    "asterisk = 'My *compu*ter has go*ne craz***y an*d add*ed extra *symbols.*'\n",
    "# your code here\n",
    "\n",
    "new_string = asterisk.replace('*', '')\n",
    "print(new_string)"
   ]
  },
  {
   "cell_type": "markdown",
   "metadata": {},
   "source": [
    "**4. Write a `while` loop that increments `counter` until it reaches 7.**"
   ]
  },
  {
   "cell_type": "code",
   "execution_count": 27,
   "metadata": {},
   "outputs": [
    {
     "name": "stdout",
     "output_type": "stream",
     "text": [
      "0\n",
      "1\n",
      "2\n",
      "3\n",
      "4\n",
      "5\n",
      "6\n",
      "7\n"
     ]
    }
   ],
   "source": [
    "counter = 0\n",
    "# your code here\n",
    "\n",
    "# My while loop\n",
    "while counter <= 7:\n",
    "    print(counter)\n",
    "    counter += 1"
   ]
  },
  {
   "cell_type": "markdown",
   "metadata": {},
   "source": [
    "**5. Loop over `double_trouble` and eliminate any 'mosquito'.**"
   ]
  },
  {
   "cell_type": "code",
   "execution_count": 66,
   "metadata": {},
   "outputs": [
    {
     "name": "stdout",
     "output_type": "stream",
     "text": [
      "['cat', 'dog', ['mouse', 'mosquito', 'bat', 'mosquito'], ['elephant', 'dog', 'whale', 'lion', 32, 'mosquito'], 'bird', [], 'mosquito']\n"
     ]
    }
   ],
   "source": [
    "double_trouble = ['cat', 'dog', ['mouse','mosquito','bat','mosquito'],\n",
    "                  ['elephant','dog','whale','lion',32,'mosquito'],'bird',[],'mosquito']\n",
    "# your code here\n",
    "\n",
    "print(double_trouble)"
   ]
  },
  {
   "cell_type": "code",
   "execution_count": 67,
   "metadata": {},
   "outputs": [
    {
     "name": "stdout",
     "output_type": "stream",
     "text": [
      "mosquito\n",
      "mosquito\n",
      "mosquito\n",
      "mosquito\n"
     ]
    }
   ],
   "source": [
    "# Initial exploration of the mosquitos\n",
    "print(double_trouble[6]) # first mosquito\n",
    "print(double_trouble[2][1]) # next \n",
    "print(double_trouble[2][3]) # next \n",
    "print(double_trouble[3][5]) # next "
   ]
  },
  {
   "cell_type": "code",
   "execution_count": 68,
   "metadata": {},
   "outputs": [],
   "source": [
    "# Eliminate the first mosquito\n",
    "double_trouble.remove('mosquito')\n",
    "# Iterate through the initial list that we start with\n",
    "for x, nest_list in enumerate(double_trouble):\n",
    "    # print every item in the list to see how it is structed\n",
    "    #print(nest_list)\n",
    "    #Next, iterate through the nested lists\n",
    "    for y, item in enumerate(nest_list):\n",
    "        # view all items in our nested lists\n",
    "        #print(item)\n",
    "        # check to see where the mosquitos are\n",
    "        if item == 'mosquito':\n",
    "            # delete the nested mosquitos\n",
    "            del double_trouble[x][y]"
   ]
  },
  {
   "cell_type": "code",
   "execution_count": 69,
   "metadata": {},
   "outputs": [
    {
     "name": "stdout",
     "output_type": "stream",
     "text": [
      "['cat', 'dog', ['mouse', 'bat'], ['elephant', 'dog', 'whale', 'lion', 32], 'bird', []]\n"
     ]
    }
   ],
   "source": [
    "print(double_trouble)"
   ]
  },
  {
   "cell_type": "markdown",
   "metadata": {},
   "source": [
    "**6. Loop through the dictionary of phone numbers and correct the parentheses.** "
   ]
  },
  {
   "cell_type": "code",
   "execution_count": 92,
   "metadata": {},
   "outputs": [],
   "source": [
    "# Provided phone book\n",
    "phone_numbers = {'Jill':'1-)555(-567-8910',\n",
    "                'Jen':'1-)555(-567-8910',\n",
    "                'Jan':'1-)555(-567-8910',\n",
    "                'Jane':'1-)555(-567-8910',\n",
    "                'Jerri':'1-)555(-567-8910'}"
   ]
  },
  {
   "cell_type": "code",
   "execution_count": 95,
   "metadata": {},
   "outputs": [
    {
     "name": "stdout",
     "output_type": "stream",
     "text": [
      "{'Jill': '1-(555)-567-8910', 'Jen': '1-(555)-567-8910', 'Jan': '1-(555)-567-8910', 'Jane': '1-(555)-567-8910', 'Jerri': '1-(555)-567-8910'}\n"
     ]
    }
   ],
   "source": [
    "# Iterate through the items in the dictionary\n",
    "for key, val in phone_numbers.items():\n",
    "    # Create updated values\n",
    "    new_val = val.replace('-)', '-(').replace('(-', ')-')\n",
    "    # Update the dictionary with new key,value pairs\n",
    "    phone_numbers.update({key:new_val})\n",
    "# print dictionary\n",
    "print(phone_numbers)"
   ]
  },
  {
   "cell_type": "markdown",
   "metadata": {},
   "source": [
    "**7. Create a function that takes in two numbers.**\n",
    "\n",
    "**If the numbers are both even add them and `return` the result.**\n",
    "\n",
    "**If the numbers are odd, subtract the second number from the first and `return` the result.**\n",
    "\n",
    "**(Assume you'll always get integers)**"
   ]
  },
  {
   "cell_type": "code",
   "execution_count": 9,
   "metadata": {},
   "outputs": [],
   "source": [
    " def even_odd(a,b):\n",
    "        if a%2==0 and b%2==0:\n",
    "            return a+b\n",
    "        elif a%2!=0 and b%2!=0:\n",
    "            return a-b\n",
    "        else:\n",
    "            return 'null'"
   ]
  },
  {
   "cell_type": "markdown",
   "metadata": {},
   "source": [
    "Test function on various scenarios"
   ]
  },
  {
   "cell_type": "code",
   "execution_count": 5,
   "metadata": {},
   "outputs": [
    {
     "data": {
      "text/plain": [
       "46"
      ]
     },
     "execution_count": 5,
     "metadata": {},
     "output_type": "execute_result"
    }
   ],
   "source": [
    "# both even\n",
    "even_odd(42,4)"
   ]
  },
  {
   "cell_type": "code",
   "execution_count": 11,
   "metadata": {},
   "outputs": [
    {
     "data": {
      "text/plain": [
       "40"
      ]
     },
     "execution_count": 11,
     "metadata": {},
     "output_type": "execute_result"
    }
   ],
   "source": [
    "# both odd\n",
    "even_odd(45,5)"
   ]
  },
  {
   "cell_type": "code",
   "execution_count": 10,
   "metadata": {},
   "outputs": [
    {
     "data": {
      "text/plain": [
       "'null'"
      ]
     },
     "execution_count": 10,
     "metadata": {},
     "output_type": "execute_result"
    }
   ],
   "source": [
    "# even and odd\n",
    "even_odd(42,5)"
   ]
  },
  {
   "cell_type": "markdown",
   "metadata": {},
   "source": [
    "**8. Create a function that takes in a `string` and removes all non-alphanumeric characters.**"
   ]
  },
  {
   "cell_type": "code",
   "execution_count": 12,
   "metadata": {},
   "outputs": [
    {
     "data": {
      "text/plain": [
       "'this string has %^&! some weird values02'"
      ]
     },
     "execution_count": 12,
     "metadata": {},
     "output_type": "execute_result"
    }
   ],
   "source": [
    "# Provided string\n",
    "string = \"this string has %^&! some weird values02\""
   ]
  },
  {
   "cell_type": "code",
   "execution_count": 21,
   "metadata": {},
   "outputs": [],
   "source": [
    "# Define function that takes in a string\n",
    "def clean_string(string):  \n",
    "    new_string = '' #empty string to add chars to\n",
    "    # iterate through the characters in the string\n",
    "    for c in string:\n",
    "        # if alphanumeric, then add the character to the new string\n",
    "        if c.isalnum():\n",
    "            new_string += c\n",
    "    # print results\n",
    "    print(new_string)"
   ]
  },
  {
   "cell_type": "code",
   "execution_count": 22,
   "metadata": {},
   "outputs": [
    {
     "name": "stdout",
     "output_type": "stream",
     "text": [
      "thisstringhassomeweirdvalues02\n"
     ]
    }
   ],
   "source": [
    "# test function\n",
    "string = \"this string has %^&! some weird values02\"\n",
    "clean_string(string)"
   ]
  },
  {
   "cell_type": "markdown",
   "metadata": {},
   "source": [
    "**9. Create a function to convert Celsius to Fahrenheit and print the result.** \n",
    "\n",
    "**Bonus(Optional): Include the degree symbol in the output.**"
   ]
  },
  {
   "cell_type": "code",
   "execution_count": 7,
   "metadata": {},
   "outputs": [],
   "source": [
    "def to_fahrenheit(C):\n",
    "    # Formula for temp conversion\n",
    "    F = (C*(9/5))+32\n",
    "    # Get degree symbol\n",
    "    degreesign = u\"\\N{DEGREE SIGN}\"\n",
    "    # Print output\n",
    "    print(f\"{F} \\N{DEGREE SIGN}\")"
   ]
  },
  {
   "cell_type": "code",
   "execution_count": 8,
   "metadata": {},
   "outputs": [
    {
     "name": "stdout",
     "output_type": "stream",
     "text": [
      "14.0 °\n"
     ]
    }
   ],
   "source": [
    "# Test function\n",
    "to_fahrenheit(-10)"
   ]
  },
  {
   "cell_type": "markdown",
   "metadata": {},
   "source": [
    "**10. Create a function that prints the fibonacci sequence from 0 to 25.** "
   ]
  },
  {
   "cell_type": "code",
   "execution_count": 13,
   "metadata": {},
   "outputs": [
    {
     "name": "stdout",
     "output_type": "stream",
     "text": [
      "0\n",
      "1\n",
      "1\n",
      "2\n",
      "3\n",
      "5\n",
      "8\n",
      "13\n",
      "21\n"
     ]
    }
   ],
   "source": [
    "def fibonacci():\n",
    "    n1, n2 = 0, 1 #set-up the first two starting values\n",
    "    print(n1) #print first val\n",
    "    print(n2) #print second val\n",
    "    count = 0 #set-up counter\n",
    "    \n",
    "    # Only go to 7th number since the 8th is larger than 25\n",
    "    while count <7:\n",
    "        nth = n1 + n2 #n1 and n2 to get next number in sequence\n",
    "        n1 = n2 #reset n1 to move up in sequence\n",
    "        n2 = nth #reset n2 to move up in sequence\n",
    "        count += 1 #increment the counter to keep moving through sequence\n",
    "        print(nth) #print current value of nth\n",
    "\n",
    "# Test my function\n",
    "fibonacci()"
   ]
  },
  {
   "cell_type": "markdown",
   "metadata": {},
   "source": [
    "**11. Create two functions. One function that accepts args `a` and `b` and returns `a + b`.** \n",
    "\n",
    "**Create a second function that accepts the first function as the 3rd argument as well as a and b.**\n"
   ]
  },
  {
   "cell_type": "code",
   "execution_count": 18,
   "metadata": {},
   "outputs": [],
   "source": [
    "# you do the first function\n",
    "def some_function(a,b):\n",
    "    return a+b\n",
    "\n",
    "# second function\n",
    "# Here's some starter code to avoid confusion.\n",
    "# Functions can be passed around like any other object. \n",
    "def second_function(a,b,some_function):\n",
    "    # return the original function using the same a,b params\n",
    "    return some_function(a,b)"
   ]
  },
  {
   "cell_type": "code",
   "execution_count": 19,
   "metadata": {},
   "outputs": [
    {
     "data": {
      "text/plain": [
       "5"
      ]
     },
     "execution_count": 19,
     "metadata": {},
     "output_type": "execute_result"
    }
   ],
   "source": [
    "# testing some function\n",
    "some_function(2,3)"
   ]
  },
  {
   "cell_type": "code",
   "execution_count": 20,
   "metadata": {},
   "outputs": [
    {
     "data": {
      "text/plain": [
       "5"
      ]
     },
     "execution_count": 20,
     "metadata": {},
     "output_type": "execute_result"
    }
   ],
   "source": [
    "# we get the same result\n",
    "second_function(2,3, some_function)"
   ]
  },
  {
   "cell_type": "markdown",
   "metadata": {},
   "source": [
    "**12. Create a function that prints prime number from 0 to 100.** "
   ]
  },
  {
   "cell_type": "code",
   "execution_count": 37,
   "metadata": {},
   "outputs": [
    {
     "name": "stdout",
     "output_type": "stream",
     "text": [
      "2\n",
      "3\n",
      "5\n",
      "7\n",
      "11\n",
      "13\n",
      "17\n",
      "19\n",
      "23\n",
      "29\n",
      "31\n",
      "37\n",
      "41\n",
      "43\n",
      "47\n",
      "53\n",
      "59\n",
      "61\n",
      "67\n",
      "71\n",
      "73\n",
      "79\n",
      "83\n",
      "89\n",
      "97\n"
     ]
    }
   ],
   "source": [
    "def Prime():\n",
    "    # range of values 1 to 100 (outer loop)\n",
    "    for i in range(1,101):\n",
    "        count=0 # starter value for counting the factors\n",
    "        # getting the divisors (inner loop)  \n",
    "        for j in range(1,i+1):\n",
    "            #print(i) #prints one 1, two 2s, three 3s, four 4s, etc.\n",
    "            #print(j) # prints values of 1...1,2...1,2,3...1,2,3,4...1,2,3,4,5...etc. (adding onto range each iteration)\n",
    "            #print(i/j) # prints the values dividing in all possible combinations (e.g. 4/4,4/3,4/2,4/1)\n",
    "            \n",
    "            # if the remainder of i/j is 0...\n",
    "            if(i%j==0):\n",
    "                count = count+1 # find the count of the factors (count all the times remainder is 0)\n",
    "        if(count==2): # if there are only 2 factors (prime number), then print i (from outer loop)\n",
    "            print(i)\n",
    "\n",
    "# Run the function\n",
    "Prime()"
   ]
  },
  {
   "cell_type": "markdown",
   "metadata": {},
   "source": [
    "**13. Now's your chance to show off. Create a function that does something that has not already been done in the homework. Get creative.** "
   ]
  },
  {
   "cell_type": "code",
   "execution_count": 38,
   "metadata": {},
   "outputs": [
    {
     "name": "stdout",
     "output_type": "stream",
     "text": [
      "Enter day of the weekSunday\n"
     ]
    },
    {
     "data": {
      "text/plain": [
       "'smoothie'"
      ]
     },
     "execution_count": 38,
     "metadata": {},
     "output_type": "execute_result"
    }
   ],
   "source": [
    "# Here is a function to help me decided what to eat for breakfast each morning\n",
    "def breakfast():\n",
    "    day = input('Enter day of the week').capitalize()\n",
    "#     print(day)\n",
    "    Breakfast_menu = {'Monday': 'oatmeal',\n",
    "                 'Tuesday': 'eggs',\n",
    "                 'Wednesday':'pancakes',\n",
    "                 'Thursday':'french toast',\n",
    "                 'Friday': 'smoothie',\n",
    "                 'Saturday': 'smoothie',\n",
    "                 'Sunday': 'smoothie'}\n",
    "    if day in Breakfast_menu.keys():\n",
    "        return Breakfast_menu[day]\n",
    "    else:\n",
    "        return 'Please enter valid day of the week (e.g. Monday)'\n",
    "\n",
    "# Call breakfast function: What should I eat for breakfast?\n",
    "breakfast()    "
   ]
  },
  {
   "cell_type": "markdown",
   "metadata": {},
   "source": [
    "**14. Add an attribute called `age` to the `__init__` method of the `Person` class.**\n",
    "\n",
    "**Create an instance of `Person()` and print the `age`.**"
   ]
  },
  {
   "cell_type": "code",
   "execution_count": 39,
   "metadata": {},
   "outputs": [
    {
     "name": "stdout",
     "output_type": "stream",
     "text": [
      "29\n"
     ]
    }
   ],
   "source": [
    "class Person():\n",
    "    # Basic constructor/default\n",
    "    # Type of dunder method (double underscore)\n",
    "    def __init__(self, name, occupation, country, age):\n",
    "        self.name = name\n",
    "        self.occupation = occupation\n",
    "        self.country = country\n",
    "        # you attribute goes here\n",
    "        self.age = age\n",
    "\n",
    "# Create an instance of Person()\n",
    "my_person = Person(\"Abbie\", \"Consultant\", \"U.S\", \"29\")\n",
    "# Print the age of my person\n",
    "print(my_person.age)"
   ]
  },
  {
   "cell_type": "markdown",
   "metadata": {},
   "source": [
    "**15. Creat an instance of the class `Candy`.** \n",
    "\n",
    "**Add an attribute called `cost` on your instance. (Don't modify the class starter code.)**\n",
    "\n",
    "**Print the instance's `cost` attribute.**\n",
    "\n",
    "**Bonus(optional): Add a function of your choice to the instance.** "
   ]
  },
  {
   "cell_type": "code",
   "execution_count": 42,
   "metadata": {},
   "outputs": [
    {
     "name": "stdout",
     "output_type": "stream",
     "text": [
      "5\n"
     ]
    }
   ],
   "source": [
    "class Candy():\n",
    "    # Basic constructor/default\n",
    "    # Type of dunder method (double underscore)\n",
    "    def __init__(self, kind='chocolate', brand= 'Nestle', caramel = False): #default arguments\n",
    "        self.type = kind\n",
    "        self.brand = brand\n",
    "        self.caramel = caramel\n",
    "    \n",
    "    # Instance method\n",
    "    def print_instance(self):\n",
    "        text = \"This candy is {kind}, and {brand} brand\".format(kind=self.type, brand=self.brand)\n",
    "        print(text)\n",
    "\n",
    "# Create an instance of candy\n",
    "my_candy = Candy()\n",
    "# Add a cost attribute without modifying code\n",
    "my_candy.cost = 5\n",
    "print(my_candy.cost)"
   ]
  },
  {
   "cell_type": "code",
   "execution_count": 43,
   "metadata": {},
   "outputs": [
    {
     "name": "stdout",
     "output_type": "stream",
     "text": [
      "This candy is chocolate, and Nestle brand\n"
     ]
    }
   ],
   "source": [
    "# Call the function on my instance\n",
    "my_candy.print_instance()"
   ]
  },
  {
   "cell_type": "markdown",
   "metadata": {},
   "source": [
    "**16. Add an instance method to our class `Greet` that prints a greeting including `greeting` and the `name`.** \n",
    "\n",
    "**Example:**\n",
    "\n",
    "**`jen = Greet()`**\n",
    "\n",
    "**`jen.greet_method()` returns `\"Hello Jennifer\"`**\n"
   ]
  },
  {
   "cell_type": "code",
   "execution_count": 60,
   "metadata": {},
   "outputs": [],
   "source": [
    "class Greet():\n",
    "    # Basic constructor\n",
    "    def __init__(self, name='Jennifer', language='english', greeting=\"Hello\"):\n",
    "        self.language = language\n",
    "        self.greeting = greeting\n",
    "        self.name = name\n",
    "        \n",
    "    # Your instance method here\n",
    "    def greet_method(self):\n",
    "        print(f'{self.greeting}, {self.name}!')"
   ]
  },
  {
   "cell_type": "code",
   "execution_count": 61,
   "metadata": {},
   "outputs": [
    {
     "name": "stdout",
     "output_type": "stream",
     "text": [
      "Hello, Jennifer!\n"
     ]
    }
   ],
   "source": [
    "# Create instance of greeting\n",
    "Jen = Greet()\n",
    "# Call the instance function on Jen object\n",
    "Jen.greet_method()"
   ]
  },
  {
   "cell_type": "code",
   "execution_count": 62,
   "metadata": {},
   "outputs": [
    {
     "name": "stdout",
     "output_type": "stream",
     "text": [
      "Hello, Abbie!\n"
     ]
    }
   ],
   "source": [
    "# New object without the default name\n",
    "Abbie = Greet(name='Abbie')\n",
    "Abbie.greet_method()"
   ]
  },
  {
   "cell_type": "markdown",
   "metadata": {},
   "source": [
    "**17. Add a line to the follwing code that will increment `employee_count` by 1 for *all* instances of `Employee`.**\n",
    "\n",
    "**The code should run each time a new instance of`Employee` is created.** \n",
    "\n",
    "**Hint: You don't need methods. Just a single expression will work. And it does NOT inlcude the word `self`.** "
   ]
  },
  {
   "cell_type": "code",
   "execution_count": 68,
   "metadata": {},
   "outputs": [
    {
     "name": "stdout",
     "output_type": "stream",
     "text": [
      "1\n",
      "2\n"
     ]
    }
   ],
   "source": [
    "class Employee():\n",
    "    \n",
    "    # class variables. Applies to all instances of this class during creation.\n",
    "    yearly_bonus = 1.01 # not used anywhere in this example\n",
    "    \n",
    "    employee_count = 0 # This variable will change for all instances of the class.\n",
    "    \n",
    "    # constructor method   \n",
    "    def __init__(self, name, age, base_pay): # creates an instance of our object with unique attributes\n",
    "        \n",
    "        self.name = name\n",
    "        self.age = age\n",
    "        self.base_pay = base_pay\n",
    "        \n",
    "        # your code here inside the __init__ method. \n",
    "        # We want this to apply to the ENTIRE class, so we use \"Employee,\" rather than \"self\"\n",
    "        Employee.employee_count += 1\n",
    "        \n",
    "emp1 = Employee('Matt', 32, 40000)\n",
    "print(emp1.employee_count) # should be 1 if the __init__ method is working properly. \n",
    "\n",
    "emp2 = emp1 = Employee('Joe', 22, 50000) # should be 2 if the __init__ method is working properly. \n",
    "print(emp2.employee_count)"
   ]
  },
  {
   "cell_type": "markdown",
   "metadata": {},
   "source": [
    "**18 . Add a `static` method of your choice to the class below.** \n",
    "\n",
    "**Instantiate an object and call your method.** \n",
    "\n",
    "**What is a static method anyway?** \n",
    "\n",
    "A static method does not need the class no isntance parameters. This is because they cannot modify the object nor the class state."
   ]
  },
  {
   "cell_type": "code",
   "execution_count": 69,
   "metadata": {},
   "outputs": [
    {
     "name": "stdout",
     "output_type": "stream",
     "text": [
      "Meryl Streep: This is my line...\n",
      "[\"Don't Look Up\", 'The Prom', 'Let Them All Talk', 'Little Women', 'Rose McGowan: Being Brave']\n"
     ]
    }
   ],
   "source": [
    "class actress():\n",
    "    # constructor\n",
    "    def __init__(self, name = 'Meryl Streep'):\n",
    "        self.name = name\n",
    "    # instance method    \n",
    "    def act(self, line):\n",
    "        print(f'{self.name}: {line}')\n",
    "        \n",
    "    # your static method goes here\n",
    "    @staticmethod \n",
    "    def movies():\n",
    "        movies_list = [\"Don't Look Up\", \"The Prom\", \"Let Them All Talk\", \"Little Women\", \"Rose McGowan: Being Brave\"]\n",
    "        print(movies_list)\n",
    "\n",
    "# Create object\n",
    "meryl = actress()\n",
    "# Call the method of our instantiated object\n",
    "meryl.act('This is my line...')\n",
    "# 5 most recent Meryl Streep movies (calling my method)\n",
    "actress.movies()"
   ]
  },
  {
   "cell_type": "markdown",
   "metadata": {},
   "source": [
    "**19. Create a `class` called Car that accepts 3 attributes (make, model and year).** \n",
    "\n",
    "**In the `__init__` method give your instance those three attributes.** \n",
    "\n",
    "**Instantiate (create) an object that is your dream car.** \n",
    "\n",
    "**Print the make of your dream car using the object attributes.** \n",
    "\n",
    "**Then call the dir() method on your new object. (See your attrs are now included!)**"
   ]
  },
  {
   "cell_type": "code",
   "execution_count": 93,
   "metadata": {},
   "outputs": [],
   "source": [
    "# create class\n",
    "class Dream_Car():\n",
    "    # Constructor\n",
    "    def __init__(self, make, model, year):\n",
    "        self.make = make\n",
    "        self.model = model\n",
    "        self.year = year"
   ]
  },
  {
   "cell_type": "code",
   "execution_count": 95,
   "metadata": {},
   "outputs": [
    {
     "name": "stdout",
     "output_type": "stream",
     "text": [
      "Subaru\n"
     ]
    }
   ],
   "source": [
    "# Instantiate an object that is your dream car\n",
    "dream_car = Dream_Car('Subaru', 'Crosstrek', '2023')\n",
    "# Print make of car\n",
    "print(dream_car.make)"
   ]
  },
  {
   "cell_type": "code",
   "execution_count": 96,
   "metadata": {},
   "outputs": [
    {
     "data": {
      "text/plain": [
       "['__class__',\n",
       " '__delattr__',\n",
       " '__dict__',\n",
       " '__dir__',\n",
       " '__doc__',\n",
       " '__eq__',\n",
       " '__format__',\n",
       " '__ge__',\n",
       " '__getattribute__',\n",
       " '__gt__',\n",
       " '__hash__',\n",
       " '__init__',\n",
       " '__init_subclass__',\n",
       " '__le__',\n",
       " '__lt__',\n",
       " '__module__',\n",
       " '__ne__',\n",
       " '__new__',\n",
       " '__reduce__',\n",
       " '__reduce_ex__',\n",
       " '__repr__',\n",
       " '__setattr__',\n",
       " '__sizeof__',\n",
       " '__str__',\n",
       " '__subclasshook__',\n",
       " '__weakref__',\n",
       " 'make',\n",
       " 'model',\n",
       " 'year']"
      ]
     },
     "execution_count": 96,
     "metadata": {},
     "output_type": "execute_result"
    }
   ],
   "source": [
    "# call dir() method on new object\n",
    "dir(dream_car) #now, my attributes are included!"
   ]
  },
  {
   "cell_type": "markdown",
   "metadata": {},
   "source": [
    "**20. Create a class called `Dice` that accepts a single argument called `number_of_dice`.** \n",
    "\n",
    "**Create an instance method called `roll`.** \n",
    "\n",
    "**`roll` should randomly pick a number for each die when called and print the results as a list.** \n",
    "\n",
    "**Create an instance of `Dice`. Then call `roll()` on your instance.**\n",
    "\n",
    "**Hint: Inside your class create an empty list called `dice`.**"
   ]
  },
  {
   "cell_type": "code",
   "execution_count": 118,
   "metadata": {},
   "outputs": [],
   "source": [
    "from random import randrange\n",
    "\n",
    "class Dice():\n",
    "    \n",
    "    # Constructor\n",
    "    def __init__(self, number_of_dice):\n",
    "        self.number_of_dice=number_of_dice # single argument for class\n",
    "        self.dice_list = [] # empty list to append to\n",
    "    \n",
    "    # instance method\n",
    "    def roll(self):\n",
    "        # loop through the number of dice you have\n",
    "        for i in range(self.number_of_dice):\n",
    "            # roll randomly for each number of dice\n",
    "            self.dice_list.append(randrange(1,7))\n",
    "        # print results\n",
    "        print(self.dice_list)"
   ]
  },
  {
   "cell_type": "code",
   "execution_count": 119,
   "metadata": {},
   "outputs": [],
   "source": [
    "# Instantiate object\n",
    "my_roll = Dice(3)"
   ]
  },
  {
   "cell_type": "code",
   "execution_count": 120,
   "metadata": {},
   "outputs": [
    {
     "name": "stdout",
     "output_type": "stream",
     "text": [
      "[2, 6, 5]\n"
     ]
    }
   ],
   "source": [
    "# Roll our instance\n",
    "my_roll.roll()"
   ]
  },
  {
   "cell_type": "markdown",
   "metadata": {},
   "source": [
    "**Bonus(optional):**\n",
    "\n",
    "0. Create a class of your choice.\n",
    "1. Give it instance variables and class variables. \n",
    "2. Give it a classmethod. \n",
    "3. Give it a regular method (instance method).\n",
    "4. Give it a static method. \n",
    "\n",
    "**Show how each works by printing an example.** "
   ]
  },
  {
   "cell_type": "code",
   "execution_count": 97,
   "metadata": {},
   "outputs": [
    {
     "name": "stdout",
     "output_type": "stream",
     "text": [
      "<__main__.Climbing object at 0x000001F6A74BCF40>\n",
      " Today, I climbed a 5.10 lead route at Robinson Bluff\n",
      "3\n",
      " 45 minutes\n"
     ]
    }
   ],
   "source": [
    "# Create a class of your choice\n",
    "\n",
    "# I love to rock climb, so here is a class that is all about climbing!\n",
    "\n",
    "# My class\n",
    "class Climbing:\n",
    "    \n",
    "    # My class variable\n",
    "    Attempts = 0 \n",
    "    \n",
    "    # Constructor method\n",
    "    def __init__(self, grade, category, location):\n",
    "        # My instance variables\n",
    "        self.grade = grade\n",
    "        self.category = category\n",
    "        self.location = location\n",
    "\n",
    "    @classmethod # will apply to the entire class\n",
    "    def my_attempts(cls, attempting):\n",
    "        cls.Attempts += attempting\n",
    "    \n",
    "    # Instance method\n",
    "    def journal(self): # regular method (instance method) \n",
    "        return f' Today, I climbed a {self.grade} {self.category} route at {self.location}'\n",
    "\n",
    "    @staticmethod\n",
    "    def minutes_climbing(x):\n",
    "        return f' {x//2} minutes'\n",
    "        #Divid by two because I climb half the time I am there when with a belay partner\n",
    "\n",
    "# Creating an object (Climbing)\n",
    "my_climb = Climbing('5.10', 'lead', 'Robinson Bluff')\n",
    "print(my_climb)\n",
    "\n",
    "# Calling my_climb to add as an instance in my journal\n",
    "print(my_climb.journal())\n",
    "\n",
    "# Add 3 attempts to this climb\n",
    "Climbing.my_attempts(3)\n",
    "print(Climbing.Attempts)\n",
    "\n",
    "# Calculate how many minutes I was climbing\n",
    "print(Climbing.minutes_climbing(90))"
   ]
  }
 ],
 "metadata": {
  "kernelspec": {
   "display_name": "Python 3 (ipykernel)",
   "language": "python",
   "name": "python3"
  },
  "language_info": {
   "codemirror_mode": {
    "name": "ipython",
    "version": 3
   },
   "file_extension": ".py",
   "mimetype": "text/x-python",
   "name": "python",
   "nbconvert_exporter": "python",
   "pygments_lexer": "ipython3",
   "version": "3.8.10"
  }
 },
 "nbformat": 4,
 "nbformat_minor": 4
}
