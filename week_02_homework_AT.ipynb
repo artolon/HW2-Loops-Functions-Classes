{
 "cells": [
  {
   "cell_type": "markdown",
   "metadata": {},
   "source": [
    "### Homework Week 02\n",
    "#### Loops, Functions and Classes\n",
    "1. Do this homework **in order**. \n",
    "2. Be sure to have a solid understanding of Functions before working with Classes. "
   ]
  },
  {
   "cell_type": "markdown",
   "metadata": {},
   "source": [
    "1. Iterate through `integers_list` and `print` values that are multiples of 7."
   ]
  },
  {
   "cell_type": "code",
   "execution_count": 2,
   "metadata": {},
   "outputs": [
    {
     "name": "stdout",
     "output_type": "stream",
     "text": [
      "2219\n",
      "483\n",
      "539\n",
      "5894\n",
      "5663\n",
      "6139\n",
      "4550\n",
      "2016\n",
      "2394\n",
      "1134\n",
      "5593\n",
      "2359\n",
      "4788\n",
      "2842\n",
      "805\n",
      "6097\n",
      "749\n",
      "5530\n",
      "1680\n",
      "6398\n",
      "1365\n",
      "1414\n",
      "2415\n",
      "5341\n",
      "3472\n",
      "1589\n",
      "1505\n",
      "6468\n",
      "4256\n",
      "3367\n",
      "1869\n",
      "2730\n",
      "1575\n",
      "6167\n",
      "5992\n",
      "4431\n",
      "6160\n",
      "980\n",
      "3234\n",
      "3745\n",
      "28\n",
      "6902\n",
      "2170\n",
      "28\n",
      "4809\n",
      "6090\n",
      "3248\n",
      "3822\n",
      "728\n",
      "1309\n"
     ]
    }
   ],
   "source": [
    "#************************************************************************************************\n",
    "\n",
    "import random\n",
    "integers_list = [random.randint(0,1000) for i in range(50)] # a list comprehension\n",
    "\n",
    "#print(integers_list)\n",
    "# The above list prints 50 random numbers from 0 to 1000\n",
    "\n",
    "# your code here\n",
    "\n",
    "# Printing values from this list that are multiples of 7\n",
    "for i in integers_list:\n",
    "        print(i*7)\n",
    "    "
   ]
  },
  {
   "cell_type": "markdown",
   "metadata": {},
   "source": [
    "2. Create `list` of 5 colors as `strings` which are all lowercase. \n",
    "Iterate through the `list` and capitalize each color. \n",
    "You should modify the `list` in place. "
   ]
  },
  {
   "cell_type": "code",
   "execution_count": 3,
   "metadata": {},
   "outputs": [
    {
     "name": "stdout",
     "output_type": "stream",
     "text": [
      "BLUE\n",
      "MAGENTA\n",
      "OLIVE\n",
      "PINK\n",
      "SILVER\n"
     ]
    }
   ],
   "source": [
    "# Here is my list of lowercase strings\n",
    "color_list = ['blue', 'magenta', 'olive', 'pink', 'silver']\n",
    "\n",
    "# Capitalize each color\n",
    "for i in color_list:\n",
    "        print(i.upper())"
   ]
  },
  {
   "cell_type": "markdown",
   "metadata": {},
   "source": [
    "3. Loop through the string and eliminate all the asterisks."
   ]
  },
  {
   "cell_type": "code",
   "execution_count": 2,
   "metadata": {},
   "outputs": [
    {
     "name": "stdout",
     "output_type": "stream",
     "text": [
      "M\n",
      "y\n",
      " \n",
      "\n",
      "c\n",
      "o\n",
      "m\n",
      "p\n",
      "u\n",
      "\n",
      "t\n",
      "e\n",
      "r\n",
      " \n",
      "h\n",
      "a\n",
      "s\n",
      " \n",
      "g\n",
      "o\n",
      "\n",
      "n\n",
      "e\n",
      " \n",
      "c\n",
      "r\n",
      "a\n",
      "z\n",
      "\n",
      "\n",
      "\n",
      "y\n",
      " \n",
      "a\n",
      "n\n",
      "\n",
      "d\n",
      " \n",
      "a\n",
      "d\n",
      "d\n",
      "\n",
      "e\n",
      "d\n",
      " \n",
      "e\n",
      "x\n",
      "t\n",
      "r\n",
      "a\n",
      " \n",
      "\n",
      "s\n",
      "y\n",
      "m\n",
      "b\n",
      "o\n",
      "l\n",
      "s\n",
      ".\n",
      "\n"
     ]
    }
   ],
   "source": [
    "# **********************************************************************************************************************\n",
    "asterisk = 'My *compu*ter has go*ne craz***y an*d add*ed extra *symbols.*'\n",
    "\n",
    "# your code here\n",
    "for a in asterisk:\n",
    "    print(a.replace('*',''))\n",
    "\n",
    "#newasterisk = asterisk.replace('*','')\n",
    "#print(newasterisk)"
   ]
  },
  {
   "cell_type": "markdown",
   "metadata": {},
   "source": [
    "4. Write a `while` loop that increments `counter` until it reaches 7."
   ]
  },
  {
   "cell_type": "code",
   "execution_count": 13,
   "metadata": {},
   "outputs": [
    {
     "name": "stdout",
     "output_type": "stream",
     "text": [
      "0\n",
      "1\n",
      "2\n",
      "3\n",
      "4\n",
      "5\n",
      "6\n",
      "7\n"
     ]
    }
   ],
   "source": [
    "counter = 0\n",
    "\n",
    "# your code here\n",
    "while counter < 8:\n",
    "    print(counter)\n",
    "    counter+=1"
   ]
  },
  {
   "cell_type": "markdown",
   "metadata": {},
   "source": [
    "5. Loop over `double_trouble` and eliminate any 'mosquito'."
   ]
  },
  {
   "cell_type": "code",
   "execution_count": 102,
   "metadata": {},
   "outputs": [
    {
     "name": "stdout",
     "output_type": "stream",
     "text": [
      "1\n",
      "1\n",
      "1\n",
      "1\n",
      "1\n",
      "1\n",
      "1\n",
      "['cat', 'dog', ['mouse', 'mosquito', 'bat', 'mosquito'], ['elephant', 'dog', 'whale', 'lion', 32, 'mosquito'], 'bird', [], 'mosquito']\n"
     ]
    }
   ],
   "source": [
    "# **************************************************************************************************\n",
    "\n",
    "double_trouble = ['cat', 'dog', ['mouse','mosquito','bat','mosquito'],['elephant','dog','whale','lion',32,'mosquito'],'bird',[],'mosquito']\n",
    "\n",
    "# Print all items in list\n",
    "#for a in double_trouble:\n",
    "    #print(a)\n",
    "\n",
    "#double_trouble.remove('mosquito')\n",
    "  \n",
    "for index in double_trouble:\n",
    "    print(double_trouble[2].index('mosquito')):\n",
    "        for index\n",
    "\n",
    "print(double_trouble)    \n",
    "#double_trouble[2][1]\n",
    "    \n",
    "#for a in double_trouble:\n",
    "    #double_trouble.remove('mosquito')\n",
    "    #print(double_trouble)\n",
    "\n",
    "#for index in range(len(double_trouble)):\n",
    "    #print(index, double_trouble[index])\n",
    "\n",
    "# your code here\n",
    "#double_trouble.remove('mosquito')    \n",
    "#print(double_trouble)\n",
    "\n",
    "#res = [i for i in test_list if i != del_list]"
   ]
  },
  {
   "cell_type": "code",
   "execution_count": 86,
   "metadata": {},
   "outputs": [
    {
     "name": "stdout",
     "output_type": "stream",
     "text": [
      "['cat', 'dog', ['mouse', 'mosquito', 'bat', 'mosquito'], ['elephant', 'dog', 'whale', 'lion', 32, 'mosquito'], 'bird', []]\n",
      "mosquito\n",
      "mosquito\n",
      "mosquito\n"
     ]
    }
   ],
   "source": [
    "print(double_trouble)\n",
    "print(double_trouble[2][1])\n",
    "print(double_trouble[2][3])\n",
    "print(double_trouble[3][5])"
   ]
  },
  {
   "cell_type": "markdown",
   "metadata": {},
   "source": [
    "6. Loop through the dictionary of phone numbers and correct the parentheses. "
   ]
  },
  {
   "cell_type": "code",
   "execution_count": 51,
   "metadata": {},
   "outputs": [
    {
     "name": "stdout",
     "output_type": "stream",
     "text": [
      "Jill 1-555-567-8910\n",
      "Jen 1-555-567-8910\n",
      "Jan 1-555-567-8910\n",
      "Jane 1-555-567-8910\n",
      "Jerri 1-555-567-8910\n"
     ]
    }
   ],
   "source": [
    "phone_numbers = {'Jill':'1-)555(-567-8910',\n",
    "                'Jen':'1-)555(-567-8910',\n",
    "                'Jan':'1-)555(-567-8910',\n",
    "                'Jane':'1-)555(-567-8910',\n",
    "                'Jerri':'1-)555(-567-8910'}\n",
    "\n",
    "# your code here\n",
    "for a,b in phone_numbers.items():\n",
    "    print(a, b.replace(')','').replace('(',''))"
   ]
  },
  {
   "cell_type": "markdown",
   "metadata": {},
   "source": [
    "7. Create a function that takes in two numbers.\n",
    "\n",
    "If the numbers are both even add them and `return` the result.\n",
    "\n",
    "If the numbers are odd, subtract the second number from the first and `return` the result.\n",
    "\n",
    "(Assume you'll always get integers)"
   ]
  },
  {
   "cell_type": "code",
   "execution_count": 11,
   "metadata": {},
   "outputs": [
    {
     "name": "stdout",
     "output_type": "stream",
     "text": [
      "6\n",
      "-52\n",
      "null\n",
      "None\n"
     ]
    }
   ],
   "source": [
    "# Here is my function\n",
    "def even_or_odd(x,y):\n",
    "    \n",
    "    if x%2 == 0 and y%2 == 0:\n",
    "        return(x+y)\n",
    "    \n",
    "    elif x%2 != 0 and y%2 != 0:\n",
    "        return(x-y)\n",
    "    \n",
    "    else:\n",
    "        print(\"null\")\n",
    "\n",
    "# Example where both are even\n",
    "print(even_or_odd(2,4))\n",
    "\n",
    "# Example where both are odd\n",
    "print(even_or_odd(3,55))\n",
    "\n",
    "# Example where neither statement is true because we have a mix of odd with even!\n",
    "print(even_or_odd(24,33))\n",
    "   "
   ]
  },
  {
   "cell_type": "markdown",
   "metadata": {},
   "source": [
    "8. Create a function that takes in a `string` and removes all non-alphanumeric characters."
   ]
  },
  {
   "cell_type": "code",
   "execution_count": 3,
   "metadata": {},
   "outputs": [],
   "source": [
    "# NOT DONE*************************************************************************************************************\n",
    "#def clean_string(a()):\n",
    "    \n",
    "string = 'blahblah'\n",
    "def clean_string(string = 'a'):\n",
    "    for a in string:\n",
    "        if a !='b':\n",
    "            print(a)\n",
    " "
   ]
  },
  {
   "cell_type": "code",
   "execution_count": 6,
   "metadata": {},
   "outputs": [
    {
     "data": {
      "text/plain": [
       "'thisstringhassomeweirdvalues02'"
      ]
     },
     "execution_count": 6,
     "metadata": {},
     "output_type": "execute_result"
    }
   ],
   "source": [
    "character(\"this string has %^&! some weird values02\")"
   ]
  },
  {
   "cell_type": "code",
   "execution_count": 25,
   "metadata": {},
   "outputs": [
    {
     "name": "stdout",
     "output_type": "stream",
     "text": [
      "['t', 'h', 'i', 's', ' ', 's', 't', 'r', 'i', 'n', 'g', ' ', 'h', 'a', 's', ' ', '%', '^', '&', '!', ' ', 's', 'o', 'm', 'e', ' ', 'w', 'e', 'i', 'r', 'd', ' ', 'v', 'a', 'l', 'u', 'e', 's', '0', '2']\n"
     ]
    },
    {
     "ename": "AttributeError",
     "evalue": "'list' object has no attribute 'isalnum'",
     "output_type": "error",
     "traceback": [
      "\u001b[1;31m---------------------------------------------------------------------------\u001b[0m",
      "\u001b[1;31mAttributeError\u001b[0m                            Traceback (most recent call last)",
      "\u001b[1;32m~\\AppData\\Local\\Temp/ipykernel_8736/1908015531.py\u001b[0m in \u001b[0;36m<module>\u001b[1;34m\u001b[0m\n\u001b[0;32m      5\u001b[0m \u001b[0mprint\u001b[0m\u001b[1;33m(\u001b[0m\u001b[0mchar_list\u001b[0m\u001b[1;33m)\u001b[0m\u001b[1;33m\u001b[0m\u001b[1;33m\u001b[0m\u001b[0m\n\u001b[0;32m      6\u001b[0m \u001b[1;33m\u001b[0m\u001b[0m\n\u001b[1;32m----> 7\u001b[1;33m \u001b[0mchar_list\u001b[0m\u001b[1;33m.\u001b[0m\u001b[0misalnum\u001b[0m\u001b[1;33m(\u001b[0m\u001b[1;33m)\u001b[0m\u001b[1;33m\u001b[0m\u001b[1;33m\u001b[0m\u001b[0m\n\u001b[0m",
      "\u001b[1;31mAttributeError\u001b[0m: 'list' object has no attribute 'isalnum'"
     ]
    }
   ],
   "source": [
    "def split(character):\n",
    "    return [char for char in character]\n",
    "\n",
    "char_list = (split(character = \"this string has %^&! some weird values02\"))\n",
    "print(char_list)\n",
    "\n",
    "char_list.isalnum()"
   ]
  },
  {
   "cell_type": "code",
   "execution_count": 13,
   "metadata": {},
   "outputs": [
    {
     "name": "stdout",
     "output_type": "stream",
     "text": [
      "this string has  some weird values02\n"
     ]
    }
   ],
   "source": [
    "# Scratch pad\n",
    "character = \"this string has %^&! some weird values02\"\n",
    "\n",
    "nonalpha_list = []\n",
    "\n",
    "for a in character:\n",
    "    if a!='`' and a!='~' and a!='!' and a!='@' and a!='#' and a!='$' and a!='%' and a!='^' and a!='&' and a!='*' and a!='(' and a!=')' and a!='-' and a!='_' and a!='=' and a!='+' and a!='{' and a!='@':\n",
    "        nonalpha_list.append(a)\n",
    "\n",
    "\n",
    "print(\"\".join(nonalpha_list))\n",
    "\n",
    "#  \"\" is an object. It has the .join() method available. \n",
    "\n"
   ]
  },
  {
   "cell_type": "markdown",
   "metadata": {},
   "source": [
    "9. Create a function to convert Celsius to Farenheight and print the result. \n",
    "\n",
    "Bonus(Optional): Include the degree symbol in the output."
   ]
  },
  {
   "cell_type": "code",
   "execution_count": 7,
   "metadata": {},
   "outputs": [
    {
     "name": "stdout",
     "output_type": "stream",
     "text": [
      "59.0\n"
     ]
    }
   ],
   "source": [
    "# convert Celsius to Farenheight:\n",
    "# (0°C × 9/5) + 32 = 32°F\n",
    "\n",
    "def Farenheight(C):\n",
    "    return C*(9/5) + 32\n",
    "\n",
    "print(Farenheight(15))\n",
    " # 15 degrees celsius is 59 degrees Farenheight"
   ]
  },
  {
   "cell_type": "markdown",
   "metadata": {},
   "source": [
    "10. Create a function that prints the fibonacci sequence from 0 to 25. "
   ]
  },
  {
   "cell_type": "code",
   "execution_count": 10,
   "metadata": {},
   "outputs": [
    {
     "name": "stdout",
     "output_type": "stream",
     "text": [
      "1\n",
      "2\n",
      "3\n",
      "5\n",
      "8\n",
      "13\n",
      "21\n",
      "34\n",
      "55\n",
      "89\n",
      "144\n",
      "233\n",
      "377\n",
      "610\n",
      "987\n",
      "1597\n",
      "2584\n",
      "4181\n",
      "6765\n",
      "10946\n",
      "17711\n",
      "28657\n",
      "46368\n",
      "75025\n",
      "121393\n"
     ]
    }
   ],
   "source": [
    "#----------------------------------------------------------------------------------------------------------------------\n",
    "# Formula: Fn = Fn-1 + Fn-2\n",
    "def fibonacci():\n",
    "    n1, n2 = 0, 1\n",
    "    count = 0\n",
    "    while count <25:\n",
    "        nth = n1 + n2\n",
    "        n1 = n2\n",
    "        n2 = nth\n",
    "        count += 1\n",
    "        print(n2)\n",
    "\n",
    "fibonacci()\n",
    "#n1, n2 = 0, 1\n",
    "#count = 0\n",
    "\n",
    "#while count<25:\n",
    "    #nth = n1 + n2\n",
    "    #n1 = n2\n",
    "    #n2 = nth\n",
    "    #count += 1\n",
    "    #print(nth)\n",
    "\n"
   ]
  },
  {
   "cell_type": "markdown",
   "metadata": {},
   "source": [
    "11. Create two functions. One function that accepts args `a` and `b` and returns `a + b`. \n",
    "\n",
    "Create a second function that accepts the first function as the 3rd argument as well as a and b.\n"
   ]
  },
  {
   "cell_type": "code",
   "execution_count": 15,
   "metadata": {},
   "outputs": [
    {
     "ename": "SyntaxError",
     "evalue": "invalid syntax (Temp/ipykernel_10452/2101437582.py, line 11)",
     "output_type": "error",
     "traceback": [
      "\u001b[1;36m  File \u001b[1;32m\"C:\\Users\\artol\\AppData\\Local\\Temp/ipykernel_10452/2101437582.py\"\u001b[1;36m, line \u001b[1;32m11\u001b[0m\n\u001b[1;33m    pass a+b+first_function\u001b[0m\n\u001b[1;37m         ^\u001b[0m\n\u001b[1;31mSyntaxError\u001b[0m\u001b[1;31m:\u001b[0m invalid syntax\n"
     ]
    }
   ],
   "source": [
    "#----------------------------------------------------------------------------------------------------------\n",
    "\n",
    "# you do the first function\n",
    "def first_function(a,b):\n",
    "    return a+b\n",
    "\n",
    "#first_function(4,9)\n",
    "\n",
    "# second function\n",
    "# Here's some starter code to avoid confusion.\n",
    "# Functions can be passed around like any other object. \n",
    "def second_function(a,b,first_function):\n",
    "    pass "
   ]
  },
  {
   "cell_type": "code",
   "execution_count": null,
   "metadata": {},
   "outputs": [],
   "source": []
  },
  {
   "cell_type": "markdown",
   "metadata": {},
   "source": [
    "12. Create a function that prints prime number from 0 to 100. "
   ]
  },
  {
   "cell_type": "code",
   "execution_count": 5,
   "metadata": {},
   "outputs": [
    {
     "name": "stdout",
     "output_type": "stream",
     "text": [
      "5\n",
      "31\n",
      "185\n",
      "1111\n"
     ]
    }
   ],
   "source": [
    "# Here is my function\n",
    "def prime():\n",
    "    n=1\n",
    "    while n in range(0,101):\n",
    "        n=(6*n)-1\n",
    "        print(n)\n",
    "        n=(6*n)+1\n",
    "        print(n)\n",
    "prime()"
   ]
  },
  {
   "cell_type": "markdown",
   "metadata": {},
   "source": [
    "13. Now's your chance to show off. Create a function that does something that has not already been done in the homework. Get creative. "
   ]
  },
  {
   "cell_type": "code",
   "execution_count": 16,
   "metadata": {},
   "outputs": [
    {
     "name": "stdout",
     "output_type": "stream",
     "text": [
      "oatmeal\n",
      "smoothie\n",
      "eggs\n",
      "smoothie\n",
      "pancakes\n",
      "smoothie\n",
      "french toast\n",
      "smoothie\n"
     ]
    }
   ],
   "source": [
    "#def breakfast(a)\n",
    "\n",
    "weekday = [\"Monday\", \"Tuesday\", \"Wednesday\", \"Thursday\", \"Friday\"]\n",
    "for day in weekday:\n",
    "    if day == \"Monday\":\n",
    "        print(\"oatmeal\")\n",
    "        \n",
    "    if day == \"Tuesday\":\n",
    "        print(\"eggs\")\n",
    "    \n",
    "    if day == \"Wednesday\":\n",
    "        print(\"pancakes\")\n",
    "    \n",
    "    if day == \"Thursday\":\n",
    "        print(\"french toast\")\n",
    "    \n",
    "    else: \n",
    "        print(\"smoothie\")\n",
    "    "
   ]
  },
  {
   "cell_type": "markdown",
   "metadata": {},
   "source": [
    "14. Add an attribute called `age` to the `__init__` method of the `Person` class.\n",
    "\n",
    "Create an instance of `Person()` and print the `age`."
   ]
  },
  {
   "cell_type": "code",
   "execution_count": 8,
   "metadata": {},
   "outputs": [
    {
     "name": "stdout",
     "output_type": "stream",
     "text": [
      "My age is 28\n"
     ]
    }
   ],
   "source": [
    "class Person():\n",
    "    \n",
    "    def __init__(self, name, occupation, country, age):\n",
    "        self.name = name\n",
    "        self.occupation = occupation\n",
    "        self.country = country\n",
    "        # you attribute goes here\n",
    "        self.age = age\n",
    "        \n",
    "# Create an instance of Person() and print the age\n",
    "my_person = Person('Abbie', 'Data Viz', 'US', '28')\n",
    "print('My age is', my_person.age)"
   ]
  },
  {
   "cell_type": "markdown",
   "metadata": {},
   "source": [
    "15. Creat an instance of the class `Candy`. \n",
    "\n",
    "Add an attribute called `cost` on your instance. (Don't modify the class starter code.)\n",
    "\n",
    "Print the instance's `cost` attribute.\n",
    "\n",
    "Bonus(optional): Add a function of your choice to the instance. "
   ]
  },
  {
   "cell_type": "code",
   "execution_count": 9,
   "metadata": {},
   "outputs": [],
   "source": [
    "class Candy():\n",
    "    \n",
    "    def __init__(self, kind='chocolate', brand= 'Nestle', caramel = False):\n",
    "        self.type = kind\n",
    "        self.brand = brand\n",
    "        self.caramel = caramel\n",
    "        "
   ]
  },
  {
   "cell_type": "code",
   "execution_count": 23,
   "metadata": {},
   "outputs": [
    {
     "name": "stdout",
     "output_type": "stream",
     "text": [
      "<__main__.Candy object at 0x000001B0EE1417C0>\n",
      "$2.99\n"
     ]
    }
   ],
   "source": [
    "# Create an instance of Candy\n",
    "my_candy = Candy()\n",
    "print(my_candy)\n",
    "\n",
    "# Add an attribute called cost\n",
    "my_candy.cost = '$2.99'\n",
    "print(my_candy.cost)"
   ]
  },
  {
   "cell_type": "markdown",
   "metadata": {},
   "source": [
    "16. Add an instance method to our class `Greet` that prints a greeting including `greeting` and the `name`. \n",
    "\n",
    "Example:\n",
    "\n",
    "`jen = Greet()`\n",
    "\n",
    "`jen.greet_method()` returns `\"Hello Jennifer\"`\n"
   ]
  },
  {
   "cell_type": "code",
   "execution_count": 19,
   "metadata": {},
   "outputs": [
    {
     "data": {
      "text/plain": [
       "'Hello Jennifer'"
      ]
     },
     "execution_count": 19,
     "metadata": {},
     "output_type": "execute_result"
    }
   ],
   "source": [
    "class Greet():\n",
    "    \n",
    "    def __init__(self, name='Jennifer', language='english', greeting=\"Hello\"):\n",
    "        \n",
    "        self.language = language\n",
    "        self.greeting = greeting\n",
    "        self.name = name\n",
    "        \n",
    "    # Your method here\n",
    "    def greet_method(self): # regular method (instance method)\n",
    "        \n",
    "        return f'{self.greeting} {self.name}'\n",
    "\n",
    "# Output\n",
    "Jen=Greet()\n",
    "Jen.greet_method()"
   ]
  },
  {
   "cell_type": "markdown",
   "metadata": {},
   "source": [
    "17. Add a line to the follwing code that will increment `employee_count` by 1 for **all** instances of `Employee`.\n",
    "\n",
    "The code should run each time an new instance of`Employee` is created. \n",
    "\n",
    "Hint: You don't need methods. Just a single expression will work. And it does NOT inlcude the word `self`. "
   ]
  },
  {
   "cell_type": "code",
   "execution_count": 28,
   "metadata": {},
   "outputs": [
    {
     "name": "stdout",
     "output_type": "stream",
     "text": [
      "1\n",
      "2\n"
     ]
    }
   ],
   "source": [
    "class Employee():\n",
    "    \n",
    "    # class variables. Applies to all instances of this class during creation.\n",
    "    yearly_bonus = 1.01 # not used anywhere in this example\n",
    "    \n",
    "    employee_count = 0 # This variable will change for all instances of the class.\n",
    "    \n",
    "       \n",
    "    def __init__(self, name, age, base_pay): # creates an instance of our object with unique attributes\n",
    "        \n",
    "        self.name = name\n",
    "        self.age = age\n",
    "        self.base_pay = base_pay\n",
    "        \n",
    "        \n",
    "        # your code here inside the __init__ method. \n",
    "        Employee.employee_count +=1\n",
    "        \n",
    "emp1 = Employee('Matt', 32, 40000)\n",
    "print(emp1.employee_count) # should be 1 if the __init__ method is working properly. \n",
    "\n",
    "emp2 = emp1 = Employee('Joe', 22, 50000) # should be 2 if the __init__ method is working properly. \n",
    "print(emp2.employee_count)\n",
    "\n"
   ]
  },
  {
   "cell_type": "markdown",
   "metadata": {},
   "source": [
    "18 . Add a `static` method of your choice to the class below. \n",
    "\n",
    "Instaiate an object and call your method. \n",
    "\n",
    "What is a static method anyway? \n"
   ]
  },
  {
   "cell_type": "code",
   "execution_count": 40,
   "metadata": {},
   "outputs": [
    {
     "name": "stdout",
     "output_type": "stream",
     "text": [
      "Meryl Streep: This is my line...\n",
      "[\"Don't Look Up\", 'The Prom', 'Let Them All Talk', 'Little Women', 'Rose McGowan: Being Brave']\n"
     ]
    }
   ],
   "source": [
    "class actress():\n",
    "    def __init__(self, name = 'Meryl Streep'):\n",
    "        self.name = name\n",
    "        \n",
    "    def act(self, line):\n",
    "        print(f'{self.name}: {line}')\n",
    "        \n",
    "    # your static method goes here.\n",
    "    @staticmethod \n",
    "    def movies():\n",
    "        movies_list = [\"Don't Look Up\", \"The Prom\", \"Let Them All Talk\", \"Little Women\", \"Rose McGowan: Being Brave\"]\n",
    "        print(movies_list)\n",
    "        \n",
    "Meryl = actress()\n",
    "Meryl.act('This is my line...')\n",
    "\n",
    "# 5 most recent Meryl Streep movies\n",
    "actress.movies()"
   ]
  },
  {
   "cell_type": "code",
   "execution_count": 37,
   "metadata": {},
   "outputs": [],
   "source": [
    "# What is a static method?\n",
    "# A static method does not need the class nor instance parameters. \n",
    "# This is because they cannot modify the object nor class state"
   ]
  },
  {
   "cell_type": "markdown",
   "metadata": {},
   "source": [
    "19. Create a `class` called Car that accepts 3 attributes (make, model and year). \n",
    "\n",
    "In the `__init__` method give your instance those three attributes. \n",
    "\n",
    "Instantiate (create) an object that is your dream car. \n",
    "\n",
    "Print the make of your dream car using the object attributes. \n",
    "\n",
    "Then call the dir() method on your new object. (See your attrs are now included!)"
   ]
  },
  {
   "cell_type": "code",
   "execution_count": 12,
   "metadata": {},
   "outputs": [
    {
     "name": "stdout",
     "output_type": "stream",
     "text": [
      "Subaru\n"
     ]
    },
    {
     "data": {
      "text/plain": [
       "['__class__',\n",
       " '__delattr__',\n",
       " '__dict__',\n",
       " '__dir__',\n",
       " '__doc__',\n",
       " '__eq__',\n",
       " '__format__',\n",
       " '__ge__',\n",
       " '__getattribute__',\n",
       " '__gt__',\n",
       " '__hash__',\n",
       " '__init__',\n",
       " '__init_subclass__',\n",
       " '__le__',\n",
       " '__lt__',\n",
       " '__module__',\n",
       " '__ne__',\n",
       " '__new__',\n",
       " '__reduce__',\n",
       " '__reduce_ex__',\n",
       " '__repr__',\n",
       " '__setattr__',\n",
       " '__sizeof__',\n",
       " '__str__',\n",
       " '__subclasshook__',\n",
       " '__weakref__',\n",
       " 'make',\n",
       " 'model',\n",
       " 'year']"
      ]
     },
     "execution_count": 12,
     "metadata": {},
     "output_type": "execute_result"
    }
   ],
   "source": [
    "# Create a class called Car\n",
    "class Car():\n",
    "    def __init__(self, make, model, year):\n",
    "        self.make = make\n",
    "        self.model = model\n",
    "        self.year = year\n",
    "\n",
    "# Instantiate an object that is your dream car      \n",
    "dream_car = Car('Subaru', 'Crosstrek', '2023')\n",
    "\n",
    "# Print make of dream car\n",
    "print(dream_car.make)\n",
    "\n",
    "# Call dir() method on object\n",
    "dir(dream_car)"
   ]
  },
  {
   "cell_type": "markdown",
   "metadata": {},
   "source": [
    "20. Create a class called `Dice` that accepts a single argument called `number_of_dice`. \n",
    "\n",
    "Create an instance method called `roll`. \n",
    "\n",
    "`roll` should randomly pick a number for each die when called and print the results as a list. \n",
    "\n",
    "Create an instance of `Dice`. Then call `roll()` on your instance.\n",
    "\n",
    "Hint: Inside your class create an empty list called `dice`."
   ]
  },
  {
   "cell_type": "code",
   "execution_count": 14,
   "metadata": {},
   "outputs": [
    {
     "name": "stdout",
     "output_type": "stream",
     "text": [
      "5\n"
     ]
    }
   ],
   "source": [
    "# Helpful starter code\n",
    "from random import randrange\n",
    "\n",
    "print(randrange(1,7)) # randomly generates a number between 1 and 6"
   ]
  },
  {
   "cell_type": "code",
   "execution_count": 62,
   "metadata": {},
   "outputs": [
    {
     "name": "stdout",
     "output_type": "stream",
     "text": [
      "3\n"
     ]
    },
    {
     "ename": "AttributeError",
     "evalue": "'int' object has no attribute 'replace'",
     "output_type": "error",
     "traceback": [
      "\u001b[1;31m---------------------------------------------------------------------------\u001b[0m",
      "\u001b[1;31mAttributeError\u001b[0m                            Traceback (most recent call last)",
      "\u001b[1;32m~\\AppData\\Local\\Temp/ipykernel_8736/633406583.py\u001b[0m in \u001b[0;36m<module>\u001b[1;34m\u001b[0m\n\u001b[0;32m     34\u001b[0m \u001b[1;33m\u001b[0m\u001b[0m\n\u001b[0;32m     35\u001b[0m \u001b[1;31m# Call roll\u001b[0m\u001b[1;33m\u001b[0m\u001b[1;33m\u001b[0m\u001b[0m\n\u001b[1;32m---> 36\u001b[1;33m \u001b[0mmy_roll\u001b[0m\u001b[1;33m.\u001b[0m\u001b[0mroll\u001b[0m\u001b[1;33m(\u001b[0m\u001b[1;33m)\u001b[0m\u001b[1;33m\u001b[0m\u001b[1;33m\u001b[0m\u001b[0m\n\u001b[0m\u001b[0;32m     37\u001b[0m \u001b[1;33m\u001b[0m\u001b[0m\n\u001b[0;32m     38\u001b[0m \u001b[1;31m#Dice.dice_list\u001b[0m\u001b[1;33m\u001b[0m\u001b[1;33m\u001b[0m\u001b[0m\n",
      "\u001b[1;32m~\\AppData\\Local\\Temp/ipykernel_8736/633406583.py\u001b[0m in \u001b[0;36mroll\u001b[1;34m(self)\u001b[0m\n\u001b[0;32m     19\u001b[0m \u001b[1;33m\u001b[0m\u001b[0m\n\u001b[0;32m     20\u001b[0m         \u001b[1;32mfor\u001b[0m \u001b[0mi\u001b[0m \u001b[1;32min\u001b[0m \u001b[0mDice\u001b[0m\u001b[1;33m.\u001b[0m\u001b[0mdice_list\u001b[0m\u001b[1;33m:\u001b[0m\u001b[1;33m\u001b[0m\u001b[1;33m\u001b[0m\u001b[0m\n\u001b[1;32m---> 21\u001b[1;33m             \u001b[0mi\u001b[0m\u001b[1;33m.\u001b[0m\u001b[0mreplace\u001b[0m\u001b[1;33m(\u001b[0m\u001b[0mi\u001b[0m\u001b[1;33m,\u001b[0m \u001b[0mrandrange\u001b[0m\u001b[1;33m(\u001b[0m\u001b[1;36m1\u001b[0m\u001b[1;33m,\u001b[0m\u001b[1;36m7\u001b[0m\u001b[1;33m)\u001b[0m\u001b[1;33m)\u001b[0m\u001b[1;33m\u001b[0m\u001b[1;33m\u001b[0m\u001b[0m\n\u001b[0m\u001b[0;32m     22\u001b[0m         \u001b[1;31m#print(randrange(1,7)) #.join [] append thing\u001b[0m\u001b[1;33m\u001b[0m\u001b[1;33m\u001b[0m\u001b[0m\n\u001b[0;32m     23\u001b[0m \u001b[1;33m\u001b[0m\u001b[0m\n",
      "\u001b[1;31mAttributeError\u001b[0m: 'int' object has no attribute 'replace'"
     ]
    }
   ],
   "source": [
    "#--------------------------------------------------------------------------------------------------------------------\n",
    "\n",
    "# Create a class called Dice\n",
    "class Dice():\n",
    "    \n",
    "    dice_list = [] # Empty list\n",
    "    \n",
    "    def __init__(self, number_of_dice): #single argument called number_of_dice\n",
    "        \n",
    "        # instance variable\n",
    "        self.number_of_dice = number_of_dice\n",
    "        \n",
    "        # change class variable; create list with a value for each number of dice\n",
    "        Dice.dice_list.extend(range(number_of_dice))\n",
    "        \n",
    "     \n",
    "    # Instance method called roll\n",
    "    def roll(self):\n",
    "        \n",
    "        for i in Dice.dice_list:\n",
    "            i.replace(i, randrange(1,7))\n",
    "        #print(randrange(1,7)) #.join [] append thing\n",
    "        \n",
    "\n",
    "\n",
    "        \n",
    "        \n",
    "# Instance of Dice\n",
    "my_roll = Dice(3)\n",
    "\n",
    "#Dice number\n",
    "print(my_roll.number_of_dice)\n",
    "Dice.dice_list\n",
    "\n",
    "# Call roll\n",
    "my_roll.roll()\n",
    "\n",
    "#Dice.dice_list"
   ]
  },
  {
   "cell_type": "code",
   "execution_count": 58,
   "metadata": {},
   "outputs": [
    {
     "ename": "AttributeError",
     "evalue": "'int' object has no attribute 'replace'",
     "output_type": "error",
     "traceback": [
      "\u001b[1;31m---------------------------------------------------------------------------\u001b[0m",
      "\u001b[1;31mAttributeError\u001b[0m                            Traceback (most recent call last)",
      "\u001b[1;32m~\\AppData\\Local\\Temp/ipykernel_8736/3133089917.py\u001b[0m in \u001b[0;36m<module>\u001b[1;34m\u001b[0m\n\u001b[0;32m      1\u001b[0m \u001b[0mdice_list\u001b[0m \u001b[1;33m=\u001b[0m \u001b[1;33m[\u001b[0m\u001b[1;36m1\u001b[0m\u001b[1;33m,\u001b[0m\u001b[1;36m2\u001b[0m\u001b[1;33m,\u001b[0m\u001b[1;36m3\u001b[0m\u001b[1;33m,\u001b[0m\u001b[1;36m4\u001b[0m\u001b[1;33m]\u001b[0m\u001b[1;33m\u001b[0m\u001b[1;33m\u001b[0m\u001b[0m\n\u001b[0;32m      2\u001b[0m \u001b[1;32mfor\u001b[0m \u001b[0mi\u001b[0m \u001b[1;32min\u001b[0m \u001b[0mdice_list\u001b[0m\u001b[1;33m:\u001b[0m\u001b[1;33m\u001b[0m\u001b[1;33m\u001b[0m\u001b[0m\n\u001b[1;32m----> 3\u001b[1;33m     \u001b[0mi\u001b[0m\u001b[1;33m.\u001b[0m\u001b[0mreplace\u001b[0m\u001b[1;33m(\u001b[0m\u001b[0mi\u001b[0m\u001b[1;33m,\u001b[0m\u001b[0mrandrange\u001b[0m\u001b[1;33m(\u001b[0m\u001b[1;36m1\u001b[0m\u001b[1;33m,\u001b[0m\u001b[1;36m7\u001b[0m\u001b[1;33m)\u001b[0m\u001b[1;33m)\u001b[0m\u001b[1;33m\u001b[0m\u001b[1;33m\u001b[0m\u001b[0m\n\u001b[0m",
      "\u001b[1;31mAttributeError\u001b[0m: 'int' object has no attribute 'replace'"
     ]
    }
   ],
   "source": [
    "dice_list = [1,2,3,4] \n",
    "for i in dice_list:\n",
    "    i.replace(i,randrange(1,7))"
   ]
  },
  {
   "cell_type": "markdown",
   "metadata": {},
   "source": [
    "Bonus(optional):\n",
    "\n",
    "0. Create a class of your choice.\n",
    "1. Give it instance variables and class variables. \n",
    "2. Give it a classmethod. \n",
    "3. Give it a regular method (instance method).\n",
    "4. Give it a static method. \n",
    "\n",
    "Show how each works by printing an example. "
   ]
  },
  {
   "cell_type": "code",
   "execution_count": 71,
   "metadata": {},
   "outputs": [
    {
     "name": "stdout",
     "output_type": "stream",
     "text": [
      "<__main__.Climbing object at 0x000001EAEF2B4C40>\n",
      "None\n"
     ]
    }
   ],
   "source": [
    "# Create a class of your choice\n",
    "class Climbing:\n",
    "    \n",
    "    Attempts = 0 # My class variable\n",
    "    \n",
    "    def __init__(self, grade, category, location):\n",
    "        \n",
    "        # My instance variables\n",
    "        self.grade = grade\n",
    "        self.category = category\n",
    "        self.location = location\n",
    "\n",
    "    @classmethod\n",
    "    def my_attempts(cls, attempting):\n",
    "        cls.Attempts += attempting\n",
    "    \n",
    "    # Instance method\n",
    "    def journal(self): # regular method (instance method) \n",
    "        return f' Today, I climbed a {self.grade} {self.category} route at {self.location}'\n",
    "\n",
    "    @staticmethod\n",
    "    def minutes_climbing(x):\n",
    "        return x/2\n",
    "\n",
    "my_climb = Climbing('5.10', 'lead', 'Robinson Bluff')\n",
    "print(my_climb)\n",
    "\n",
    "\n",
    "print(my_climb.my_attempts(3))"
   ]
  },
  {
   "cell_type": "code",
   "execution_count": null,
   "metadata": {},
   "outputs": [],
   "source": []
  }
 ],
 "metadata": {
  "kernelspec": {
   "display_name": "Python 3 (ipykernel)",
   "language": "python",
   "name": "python3"
  },
  "language_info": {
   "codemirror_mode": {
    "name": "ipython",
    "version": 3
   },
   "file_extension": ".py",
   "mimetype": "text/x-python",
   "name": "python",
   "nbconvert_exporter": "python",
   "pygments_lexer": "ipython3",
   "version": "3.9.7"
  }
 },
 "nbformat": 4,
 "nbformat_minor": 4
}
